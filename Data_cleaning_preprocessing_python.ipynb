{
 "cells": [
  {
   "cell_type": "code",
   "execution_count": 3,
   "id": "5d22571e",
   "metadata": {},
   "outputs": [],
   "source": [
    "import pandas as pd\n",
    "import numpy as np\n"
   ]
  },
  {
   "cell_type": "markdown",
   "id": "151a9045",
   "metadata": {},
   "source": [
    "Good References, \n",
    "https://www.kaggle.com/discussions/getting-started/250322\n"
   ]
  },
  {
   "cell_type": "code",
   "execution_count": 26,
   "id": "150987fe",
   "metadata": {},
   "outputs": [],
   "source": [
    "df = pd.read_excel('/Users/natashabeaneycolverd/Documents/Coding Practice/Data cleaning/Nashville Housing Data for Data Cleaning.xlsx')\n"
   ]
  },
  {
   "cell_type": "code",
   "execution_count": 27,
   "id": "0032ab0e",
   "metadata": {},
   "outputs": [
    {
     "name": "stdout",
     "output_type": "stream",
     "text": [
      "<class 'pandas.core.frame.DataFrame'>\n",
      "RangeIndex: 56477 entries, 0 to 56476\n",
      "Data columns (total 19 columns):\n",
      " #   Column           Non-Null Count  Dtype         \n",
      "---  ------           --------------  -----         \n",
      " 0   UniqueID         56477 non-null  int64         \n",
      " 1   ParcelID         56477 non-null  object        \n",
      " 2   LandUse          56477 non-null  object        \n",
      " 3   PropertyAddress  56448 non-null  object        \n",
      " 4   SaleDate         56477 non-null  datetime64[ns]\n",
      " 5   SalePrice        56477 non-null  int64         \n",
      " 6   LegalReference   56477 non-null  object        \n",
      " 7   SoldAsVacant     56477 non-null  object        \n",
      " 8   OwnerName        25261 non-null  object        \n",
      " 9   OwnerAddress     26015 non-null  object        \n",
      " 10  Acreage          26015 non-null  float64       \n",
      " 11  TaxDistrict      26015 non-null  object        \n",
      " 12  LandValue        26015 non-null  float64       \n",
      " 13  BuildingValue    26015 non-null  float64       \n",
      " 14  TotalValue       26015 non-null  float64       \n",
      " 15  YearBuilt        24163 non-null  float64       \n",
      " 16  Bedrooms         24157 non-null  float64       \n",
      " 17  FullBath         24275 non-null  float64       \n",
      " 18  HalfBath         24144 non-null  float64       \n",
      "dtypes: datetime64[ns](1), float64(8), int64(2), object(8)\n",
      "memory usage: 8.2+ MB\n"
     ]
    },
    {
     "data": {
      "text/plain": [
       "Index(['UniqueID ', 'ParcelID', 'LandUse', 'PropertyAddress', 'SaleDate',\n",
       "       'SalePrice', 'LegalReference', 'SoldAsVacant', 'OwnerName',\n",
       "       'OwnerAddress', 'Acreage', 'TaxDistrict', 'LandValue', 'BuildingValue',\n",
       "       'TotalValue', 'YearBuilt', 'Bedrooms', 'FullBath', 'HalfBath'],\n",
       "      dtype='object')"
      ]
     },
     "execution_count": 27,
     "metadata": {},
     "output_type": "execute_result"
    }
   ],
   "source": [
    "df.info()\n",
    "df.describe()\n",
    "df.head()\n",
    "df.tail()\n",
    "df.columns"
   ]
  },
  {
   "cell_type": "code",
   "execution_count": 28,
   "id": "4ef24713",
   "metadata": {},
   "outputs": [
    {
     "data": {
      "application/vnd.microsoft.datawrangler.viewer.v0+json": {
       "columns": [
        {
         "name": "index",
         "rawType": "object",
         "type": "string"
        },
        {
         "name": "0",
         "rawType": "int64",
         "type": "integer"
        }
       ],
       "ref": "42926b4e-c0e5-42dc-a016-e063161ef574",
       "rows": [
        [
         "UniqueID ",
         "0"
        ],
        [
         "ParcelID",
         "0"
        ],
        [
         "LandUse",
         "0"
        ],
        [
         "PropertyAddress",
         "29"
        ],
        [
         "SaleDate",
         "0"
        ],
        [
         "SalePrice",
         "0"
        ],
        [
         "LegalReference",
         "0"
        ],
        [
         "SoldAsVacant",
         "0"
        ],
        [
         "OwnerName",
         "31216"
        ],
        [
         "OwnerAddress",
         "30462"
        ],
        [
         "Acreage",
         "30462"
        ],
        [
         "TaxDistrict",
         "30462"
        ],
        [
         "LandValue",
         "30462"
        ],
        [
         "BuildingValue",
         "30462"
        ],
        [
         "TotalValue",
         "30462"
        ],
        [
         "YearBuilt",
         "32314"
        ],
        [
         "Bedrooms",
         "32320"
        ],
        [
         "FullBath",
         "32202"
        ],
        [
         "HalfBath",
         "32333"
        ]
       ],
       "shape": {
        "columns": 1,
        "rows": 19
       }
      },
      "text/plain": [
       "UniqueID               0\n",
       "ParcelID               0\n",
       "LandUse                0\n",
       "PropertyAddress       29\n",
       "SaleDate               0\n",
       "SalePrice              0\n",
       "LegalReference         0\n",
       "SoldAsVacant           0\n",
       "OwnerName          31216\n",
       "OwnerAddress       30462\n",
       "Acreage            30462\n",
       "TaxDistrict        30462\n",
       "LandValue          30462\n",
       "BuildingValue      30462\n",
       "TotalValue         30462\n",
       "YearBuilt          32314\n",
       "Bedrooms           32320\n",
       "FullBath           32202\n",
       "HalfBath           32333\n",
       "dtype: int64"
      ]
     },
     "execution_count": 28,
     "metadata": {},
     "output_type": "execute_result"
    }
   ],
   "source": [
    "df.isnull().sum()\n",
    "# df.dropna(inplace=True)"
   ]
  },
  {
   "cell_type": "code",
   "execution_count": null,
   "id": "4ca74b9e",
   "metadata": {},
   "outputs": [],
   "source": [
    "# df.dropna(inplace=True)"
   ]
  },
  {
   "cell_type": "code",
   "execution_count": null,
   "id": "8e1138b2",
   "metadata": {},
   "outputs": [],
   "source": [
    "# df['column'] = df['column'].fillna(value)\n",
    "# df['column'] = df['column'].fillna(df['column'].mean())  # or median/mode"
   ]
  },
  {
   "cell_type": "code",
   "execution_count": 29,
   "id": "9562a809",
   "metadata": {},
   "outputs": [
    {
     "data": {
      "text/plain": [
       "0"
      ]
     },
     "execution_count": 29,
     "metadata": {},
     "output_type": "execute_result"
    }
   ],
   "source": [
    "# Duplicates\n",
    "df.duplicated().sum()\n",
    "# df.drop_duplicates(inplace=True)"
   ]
  },
  {
   "cell_type": "code",
   "execution_count": null,
   "id": "70b7a5d8",
   "metadata": {},
   "outputs": [],
   "source": [
    "# Data types Check \n",
    "df['date'] = pd.to_datetime(df['date'])\n",
    "df['column'] = df['column'].astype('int') "
   ]
  },
  {
   "cell_type": "code",
   "execution_count": null,
   "id": "70ccba67",
   "metadata": {},
   "outputs": [],
   "source": [
    "# Text Standardiseation\n",
    "df['column'] = df['column'].str.lower().str.strip()"
   ]
  },
  {
   "cell_type": "code",
   "execution_count": null,
   "id": "fe59c382",
   "metadata": {},
   "outputs": [],
   "source": [
    "# Outliers\n",
    "q1 = df['column'].quantile(0.25)\n",
    "q3 = df['column'].quantile(0.75)\n",
    "iqr = q3 - q1\n",
    "df = df[(df['column'] >= q1 - 1.5 * iqr) & (df['column'] <= q3 + 1.5 * iqr)]\n"
   ]
  }
 ],
 "metadata": {
  "kernelspec": {
   "display_name": "main_ENV",
   "language": "python",
   "name": "python3"
  },
  "language_info": {
   "codemirror_mode": {
    "name": "ipython",
    "version": 3
   },
   "file_extension": ".py",
   "mimetype": "text/x-python",
   "name": "python",
   "nbconvert_exporter": "python",
   "pygments_lexer": "ipython3",
   "version": "3.12.2"
  }
 },
 "nbformat": 4,
 "nbformat_minor": 5
}
